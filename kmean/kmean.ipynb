{
 "cells": [
  {
   "cell_type": "code",
   "execution_count": 13,
   "metadata": {},
   "outputs": [],
   "source": [
    "import random\n",
    "import math\n",
    "\n",
    "random.seed(0)\n",
    "\n",
    "def kmeans(data, k):\n",
    "    # Initialize centroids randomly\n",
    "    centroids = random.sample(data, k)\n",
    "\n",
    "    # Initialize empty clusters\n",
    "    clusters = [[] for _ in range(k)]\n",
    "\n",
    "    # Loop until convergence\n",
    "    while True:\n",
    "        # Assign each data point to the closest centroid\n",
    "        for point in data:\n",
    "            distances = [euclidean_distance(point, centroid) for centroid in centroids]\n",
    "            cluster_index = distances.index(min(distances))\n",
    "            clusters[cluster_index].append(point)\n",
    "\n",
    "        # Save the old centroids\n",
    "        old_centroids = centroids\n",
    "\n",
    "        # Update the centroids\n",
    "        for i, cluster in enumerate(clusters):\n",
    "            centroids[i] = find_centroid(cluster)\n",
    "\n",
    "        # If the centroids haven't changed, we have converged\n",
    "        if old_centroids == centroids:\n",
    "            break\n",
    "\n",
    "    return clusters, centroids\n",
    "\n",
    "\n",
    "def euclidean_distance(p1, p2):\n",
    "    # Calculate the Euclidean distance between two points\n",
    "    return math.sqrt(sum([(a - b) ** 2 for a, b in zip(p1, p2)]))\n",
    "\n",
    "\n",
    "def mean(points):\n",
    "    # Calculate the mean of a list of points\n",
    "    return sum(points) / len(points)\n",
    "\n",
    "def find_centroid(points):\n",
    "  # Initialize variables to keep track of the minimum distance and the centroid\n",
    "  min_distance = float('inf')\n",
    "  centroid = None\n",
    "\n",
    "  # Iterate over each point and calculate the sum of distances to all other points\n",
    "  for point in points:\n",
    "    distance = 0\n",
    "    for other_point in points:\n",
    "      distance += euclidean_distance(point, other_point)\n",
    "    # If the distance is smaller than the current minimum, update the minimum and the centroid\n",
    "    if distance < min_distance:\n",
    "      min_distance = distance\n",
    "      centroid = point\n",
    "\n",
    "  return centroid\n"
   ]
  },
  {
   "cell_type": "code",
   "execution_count": 14,
   "metadata": {},
   "outputs": [
    {
     "name": "stdout",
     "output_type": "stream",
     "text": [
      "Cluster: [(0, 1, 2), (2, 2, 2)], Centroid: (0, 1, 2)\n",
      "Cluster: [(2, 2, 0), (2, 3, 0)], Centroid: (2, 2, 0)\n",
      "Cluster: [(0, 1, 1), (1, 1, 0)], Centroid: (0, 1, 1)\n"
     ]
    }
   ],
   "source": [
    "data = ((0,1,1),(1,1,0),(2,2,0),(0,1,2),(2,2,2),(2,3,0))\n",
    "k = 3\n",
    "\n",
    "clusters, centroids = kmeans(data, k)\n",
    "for cluster, centroid in zip(clusters, centroids):\n",
    "    print(\"Cluster: {}, Centroid: {}\".format(cluster, centroid))"
   ]
  },
  {
   "cell_type": "code",
   "execution_count": null,
   "metadata": {},
   "outputs": [],
   "source": []
  }
 ],
 "metadata": {
  "kernelspec": {
   "display_name": "xlths",
   "language": "python",
   "name": "python3"
  },
  "language_info": {
   "codemirror_mode": {
    "name": "ipython",
    "version": 3
   },
   "file_extension": ".py",
   "mimetype": "text/x-python",
   "name": "python",
   "nbconvert_exporter": "python",
   "pygments_lexer": "ipython3",
   "version": "3.9.15 | packaged by conda-forge | (main, Nov 22 2022, 08:41:22) [MSC v.1929 64 bit (AMD64)]"
  },
  "orig_nbformat": 4,
  "vscode": {
   "interpreter": {
    "hash": "b148f204c379ca5d56adb42c3ce55af3dd36aac96ea059b00ab562c69c48880d"
   }
  }
 },
 "nbformat": 4,
 "nbformat_minor": 2
}
