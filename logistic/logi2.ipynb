{
 "cells": [
  {
   "cell_type": "code",
   "execution_count": 5,
   "metadata": {},
   "outputs": [
    {
     "name": "stdout",
     "output_type": "stream",
     "text": [
      "0     0\n",
      "1     0\n",
      "2     0\n",
      "3     0\n",
      "4     0\n",
      "     ..\n",
      "75    1\n",
      "76    1\n",
      "77    1\n",
      "78    1\n",
      "79    1\n",
      "Name: Labeling, Length: 80, dtype: int32\n"
     ]
    }
   ],
   "source": [
    "import pandas as pd\n",
    "\n",
    "# Import the data:\n",
    "data = pd.read_csv('data.csv')\n",
    "\n",
    "# Define the variables:\n",
    "x = data['x']\n",
    "y = data['y']\n",
    "z = data['z']\n",
    "\n",
    "# Perform the calculation:\n",
    "result = x + y + z\n",
    "from sklearn.preprocessing import LabelEncoder\n",
    "from sklearn.model_selection import train_test_split\n",
    "import numpy as np\n",
    "\n",
    "\n",
    "data = pd.read_csv('input.csv', header=0)\n",
    "\n",
    "data[\"Labeling\"] = LabelEncoder().fit_transform(data[\"Labeling\"])\n",
    "\n",
    "print(data[\"Labeling\"])\n",
    "X = data.drop([\"Labeling\"], axis=1).to_numpy()\n",
    "Y = data[\"Labeling\"].to_numpy()\n",
    "\n",
    "# Set the number of input and output neurons\n",
    "num_inputs = 4\n",
    "num_outputs = 1\n",
    "\n",
    "# Set the number of neurons in the hidden layer\n",
    "num_hidden = 4\n",
    "\n",
    "# Set the learning rate\n",
    "learning_rate = 0.1\n",
    "\n",
    "# Initialize the weights and biases for the input and hidden layers\n",
    "W1 = np.random.randn(num_inputs, num_hidden)\n",
    "b1 = np.zeros((1, num_hidden))\n",
    "W2 = np.random.randn(num_hidden, num_outputs)\n",
    "b2 = np.zeros((1, num_outputs))\n",
    "\n",
    "# Define the sigmoid activation function\n",
    "def sigmoid(x):\n",
    "    return 1 / (1 + np.exp(-x))\n",
    "\n",
    "# Define the derivative of the sigmoid function\n",
    "def sigmoid_derivative(x):\n",
    "    return sigmoid(x) * (1 - sigmoid(x))\n",
    "\n",
    "def binary_cross_entropy(y, y_pred):\n",
    "    return -(y * np.log(y_pred) + (1 - y) * np.log(1 - y_pred))\n",
    "\n",
    "def d_binary_cross_entropy(y, y_pred):\n",
    "    return -y/y_pred + (1-y)/(1-y_pred)\n",
    "\n",
    "\n",
    "def predict(x, W1, b1, W2, b2):\n",
    "    z1 = np.dot(x, W1) + b1\n",
    "    a1 = sigmoid(z1)\n",
    "    z2 = np.dot(a1, W2) + b2\n",
    "    a2 = sigmoid(z2)\n",
    "    return a2.reshape(-1)\n",
    "\n",
    "# Train the model for a fixed number of epochs\n",
    "num_epochs = 10000\n",
    "for epoch in range(num_epochs):\n",
    "    # Forward propagate the input through the network\n",
    "    # x -(x*w1+b1)-> z1 -(sigmoid(z1))-> a1 -(a1*w2+b2)->z2 -(sigmoid(z2))-> a2\n",
    "    for xi, yi in zip(X, Y):\n",
    "        z1 = np.dot(xi, W1) + b1\n",
    "        a1 = sigmoid(z1)\n",
    "        z2 = np.dot(a1, W2) + b2\n",
    "        a2 = sigmoid(z2)\n",
    "        loss = binary_cross_entropy(yi, a2)\n",
    "        \n",
    "        dLoss_da2 = d_binary_cross_entropy(yi, a2)\n",
    "        da2_dz2 = sigmoid_derivative(z2)\n",
    "        dz2_dw2 = a1.T\n",
    "        dz2_da1 = W2.T\n",
    "        dz2_db2 = 1\n",
    "        da1_dz1 = sigmoid_derivative(z1)\n",
    "        dz1_dx = W1.T\n",
    "        dz1_dw1 = xi.T\n",
    "        dz1_db1 = 1\n",
    "        \n",
    "        dLoss_dw2 = dLoss_da2 * da2_dz2 * dz2_dw2\n",
    "        dLoss_db2 = dLoss_da2 * da2_dz2 * dz2_db2\n",
    "        dLoss_dw1 = dLoss_da2 * da2_dz2 * dz2_da1 * da1_dz1 * dz1_dw1\n",
    "        dLoss_db1 = dLoss_da2 * da2_dz2 * dz2_da1 * da1_dz1 * dz1_db1\n",
    "        \n",
    "        W2 = W2 - learning_rate * dLoss_dw2\n",
    "        b2 = b2 - learning_rate * dLoss_db2\n",
    "        W1 = W1 - learning_rate * dLoss_dw1\n",
    "        b1 = b1 - learning_rate * dLoss_db1\n",
    "        \n",
    "        # print(loss, end=\" \")"
   ]
  },
  {
   "cell_type": "code",
   "execution_count": 7,
   "metadata": {},
   "outputs": [
    {
     "name": "stdout",
     "output_type": "stream",
     "text": [
      "0.975\n"
     ]
    }
   ],
   "source": [
    "X_test = X\n",
    "Y_test = Y\n",
    "sum = 0\n",
    "for x, y in zip(X_test, Y_test):\n",
    "    y_pred = predict(x, W1, b1, W2, b2)\n",
    "    y_pred = 1 if y_pred > 0.5 else 0\n",
    "    sum += (y_pred == y)\n",
    "print(sum/len(X_test))"
   ]
  },
  {
   "cell_type": "code",
   "execution_count": null,
   "metadata": {},
   "outputs": [],
   "source": [
    "Y[38]"
   ]
  },
  {
   "cell_type": "code",
   "execution_count": null,
   "metadata": {},
   "outputs": [],
   "source": []
  }
 ],
 "metadata": {
  "kernelspec": {
   "display_name": "xlths",
   "language": "python",
   "name": "python3"
  },
  "language_info": {
   "codemirror_mode": {
    "name": "ipython",
    "version": 3
   },
   "file_extension": ".py",
   "mimetype": "text/x-python",
   "name": "python",
   "nbconvert_exporter": "python",
   "pygments_lexer": "ipython3",
   "version": "3.9.15"
  },
  "orig_nbformat": 4,
  "vscode": {
   "interpreter": {
    "hash": "b148f204c379ca5d56adb42c3ce55af3dd36aac96ea059b00ab562c69c48880d"
   }
  }
 },
 "nbformat": 4,
 "nbformat_minor": 2
}
